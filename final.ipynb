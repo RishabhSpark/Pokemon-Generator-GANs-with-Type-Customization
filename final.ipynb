{
 "cells": [
  {
   "cell_type": "code",
   "execution_count": 1,
   "metadata": {},
   "outputs": [],
   "source": [
    "import numpy as np\n",
    "import pandas as pd"
   ]
  },
  {
   "cell_type": "code",
   "execution_count": 2,
   "metadata": {},
   "outputs": [],
   "source": [
    "from tensorflow.keras.models import Sequential, model_from_json"
   ]
  },
  {
   "cell_type": "code",
   "execution_count": 4,
   "metadata": {},
   "outputs": [
    {
     "name": "stdout",
     "output_type": "stream",
     "text": [
      "WARNING:tensorflow:No training configuration found in the save file, so the model was *not* compiled. Compile it manually.\n"
     ]
    }
   ],
   "source": [
    "from tensorflow import keras\n",
    "label = keras.models.load_model('models/Label.h5')\n",
    "gen = keras.models.load_model('models/gen.h5')\n"
   ]
  },
  {
   "cell_type": "code",
   "execution_count": 5,
   "metadata": {},
   "outputs": [],
   "source": [
    "classes=['Rock',      'Ice',   'Poison',   'Flying',\n",
    "         'Dragon',  'Psychic',   'Ground',    'Fairy',   'Normal',     'Fire',\n",
    "          'Water',    'Ghost', 'Electric',      'Bug',    'Steel',     'Dark',\n",
    "          'Grass', 'Fighting']"
   ]
  },
  {
   "cell_type": "code",
   "execution_count": 6,
   "metadata": {},
   "outputs": [
    {
     "name": "stdout",
     "output_type": "stream",
     "text": [
      "Model: \"GEN\"\n",
      "_________________________________________________________________\n",
      " Layer (type)                Output Shape              Param #   \n",
      "=================================================================\n",
      " dense (Dense)               (None, 115200)            11635200  \n",
      "                                                                 \n",
      " batch_normalization (BatchN  (None, 115200)           460800    \n",
      " ormalization)                                                   \n",
      "                                                                 \n",
      " re_lu (ReLU)                (None, 115200)            0         \n",
      "                                                                 \n",
      " reshape (Reshape)           (None, 15, 15, 512)       0         \n",
      "                                                                 \n",
      " conv2d_transpose (Conv2DTra  (None, 30, 30, 256)      2097408   \n",
      " nspose)                                                         \n",
      "                                                                 \n",
      " batch_normalization_1 (Batc  (None, 30, 30, 256)      1024      \n",
      " hNormalization)                                                 \n",
      "                                                                 \n",
      " re_lu_1 (ReLU)              (None, 30, 30, 256)       0         \n",
      "                                                                 \n",
      " conv2d_transpose_1 (Conv2DT  (None, 60, 60, 128)      524416    \n",
      " ranspose)                                                       \n",
      "                                                                 \n",
      " batch_normalization_2 (Batc  (None, 60, 60, 128)      512       \n",
      " hNormalization)                                                 \n",
      "                                                                 \n",
      " re_lu_2 (ReLU)              (None, 60, 60, 128)       0         \n",
      "                                                                 \n",
      " conv2d_transpose_2 (Conv2DT  (None, 120, 120, 64)     131136    \n",
      " ranspose)                                                       \n",
      "                                                                 \n",
      " batch_normalization_3 (Batc  (None, 120, 120, 64)     256       \n",
      " hNormalization)                                                 \n",
      "                                                                 \n",
      " re_lu_3 (ReLU)              (None, 120, 120, 64)      0         \n",
      "                                                                 \n",
      " conv2d (Conv2D)             (None, 120, 120, 3)       3075      \n",
      "                                                                 \n",
      "=================================================================\n",
      "Total params: 14,853,827\n",
      "Trainable params: 14,622,531\n",
      "Non-trainable params: 231,296\n",
      "_________________________________________________________________\n"
     ]
    }
   ],
   "source": [
    "gen.summary()"
   ]
  },
  {
   "cell_type": "code",
   "execution_count": 12,
   "metadata": {},
   "outputs": [
    {
     "name": "stdout",
     "output_type": "stream",
     "text": [
      "1/1 [==============================] - 0s 83ms/step\n",
      "(120, 120, 3)\n",
      "1/1 [==============================] - 0s 31ms/step\n"
     ]
    },
    {
     "name": "stderr",
     "output_type": "stream",
     "text": [
      "Clipping input data to the valid range for imshow with RGB data ([0..1] for floats or [0..255] for integers).\n"
     ]
    },
    {
     "name": "stdout",
     "output_type": "stream",
     "text": [
      "[4.13351518e-04 5.44776500e-04 1.60590947e-01 1.99820171e-03\n",
      " 4.70077881e-04 4.23765887e-05 1.01032754e-06 9.53923091e-02\n",
      " 1.25816595e-02 3.00304946e-02 3.40002647e-04 4.71852303e-01\n",
      " 1.18402622e-05 1.64039060e-01 1.14653922e-04 5.85937127e-02\n",
      " 6.77718956e-04 2.30559078e-03]\n",
      "Ghost (0.472)\n",
      "Bug (0.164)\n"
     ]
    },
    {
     "data": {
      "text/plain": [
       "<matplotlib.image.AxesImage at 0x16f05877e20>"
      ]
     },
     "execution_count": 12,
     "metadata": {},
     "output_type": "execute_result"
    },
    {
     "data": {
      "image/png": "[encoded data removed]",
      "text/plain": [
       "<Figure size 432x288 with 1 Axes>"
      ]
     },
     "metadata": {
      "needs_background": "light"
     },
     "output_type": "display_data"
    }
   ],
   "source": [
    "import tensorflow as tf\n",
    "import matplotlib.pyplot as plt\n",
    "\n",
    "LATENT_DIM=100\n",
    "random_noise = tf.random.normal([1,LATENT_DIM])\n",
    "# for i in range(10):\n",
    "img=gen.predict(random_noise)\n",
    "img=img.reshape(120,120,3)\n",
    "classes = np.array(classes)\n",
    "print(img.shape)\n",
    "proba = label.predict(img.reshape(1,120,120,3))\n",
    "print(proba[0])\n",
    "top_2 = np.argsort(proba[0])[:-3:-1]\n",
    "for i in range(2):\n",
    "    print(\"{}\".format(classes[top_2[i]])+\" ({:.3})\".format(proba[0][top_2[i]]))\n",
    "plt.imshow(img)"
   ]
  },
  {
   "cell_type": "code",
   "execution_count": null,
   "metadata": {},
   "outputs": [],
   "source": []
  }
 ],
 "metadata": {
  "kernelspec": {
   "display_name": "Python 3",
   "language": "python",
   "name": "python3"
  },
  "language_info": {
   "codemirror_mode": {
    "name": "ipython",
    "version": 3
   },
   "file_extension": ".py",
   "mimetype": "text/x-python",
   "name": "python",
   "nbconvert_exporter": "python",
   "pygments_lexer": "ipython3",
   "version": "3.9.6"
  },
  "orig_nbformat": 4
 },
 "nbformat": 4,
 "nbformat_minor": 2
}
