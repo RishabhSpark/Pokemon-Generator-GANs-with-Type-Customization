{
 "cells": [
  {
   "cell_type": "code",
   "execution_count": 172,
   "metadata": {},
   "outputs": [],
   "source": [
    "import numpy as np\n",
    "import pandas as pd"
   ]
  },
  {
   "cell_type": "code",
   "execution_count": 173,
   "metadata": {},
   "outputs": [],
   "source": [
    "from tensorflow.keras.models import Sequential, model_from_json"
   ]
  },
  {
   "cell_type": "code",
   "execution_count": 174,
   "metadata": {},
   "outputs": [
    {
     "name": "stdout",
     "output_type": "stream",
     "text": [
      "WARNING:tensorflow:No training configuration found in the save file, so the model was *not* compiled. Compile it manually.\n"
     ]
    }
   ],
   "source": [
    "from tensorflow import keras\n",
    "label = keras.models.load_model('models/Label.h5')\n",
    "gen = keras.models.load_model('modelsgen.h5')\n"
   ]
  },
  {
   "cell_type": "code",
   "execution_count": 175,
   "metadata": {},
   "outputs": [],
   "source": [
    "classes=['Rock',      'Ice',   'Poison',   'Flying',\n",
    "         'Dragon',  'Psychic',   'Ground',    'Fairy',   'Normal',     'Fire',\n",
    "          'Water',    'Ghost', 'Electric',      'Bug',    'Steel',     'Dark',\n",
    "          'Grass', 'Fighting']"
   ]
  },
  {
   "cell_type": "code",
   "execution_count": 176,
   "metadata": {},
   "outputs": [
    {
     "name": "stdout",
     "output_type": "stream",
     "text": [
      "Model: \"GEN\"\n",
      "_________________________________________________________________\n",
      " Layer (type)                Output Shape              Param #   \n",
      "=================================================================\n",
      " dense (Dense)               (None, 115200)            11635200  \n",
      "                                                                 \n",
      " batch_normalization (BatchN  (None, 115200)           460800    \n",
      " ormalization)                                                   \n",
      "                                                                 \n",
      " re_lu (ReLU)                (None, 115200)            0         \n",
      "                                                                 \n",
      " reshape (Reshape)           (None, 15, 15, 512)       0         \n",
      "                                                                 \n",
      " conv2d_transpose (Conv2DTra  (None, 30, 30, 256)      2097408   \n",
      " nspose)                                                         \n",
      "                                                                 \n",
      " batch_normalization_1 (Batc  (None, 30, 30, 256)      1024      \n",
      " hNormalization)                                                 \n",
      "                                                                 \n",
      " re_lu_1 (ReLU)              (None, 30, 30, 256)       0         \n",
      "                                                                 \n",
      " conv2d_transpose_1 (Conv2DT  (None, 60, 60, 128)      524416    \n",
      " ranspose)                                                       \n",
      "                                                                 \n",
      " batch_normalization_2 (Batc  (None, 60, 60, 128)      512       \n",
      " hNormalization)                                                 \n",
      "                                                                 \n",
      " re_lu_2 (ReLU)              (None, 60, 60, 128)       0         \n",
      "                                                                 \n",
      " conv2d_transpose_2 (Conv2DT  (None, 120, 120, 64)     131136    \n",
      " ranspose)                                                       \n",
      "                                                                 \n",
      " batch_normalization_3 (Batc  (None, 120, 120, 64)     256       \n",
      " hNormalization)                                                 \n",
      "                                                                 \n",
      " re_lu_3 (ReLU)              (None, 120, 120, 64)      0         \n",
      "                                                                 \n",
      " conv2d (Conv2D)             (None, 120, 120, 3)       3075      \n",
      "                                                                 \n",
      "=================================================================\n",
      "Total params: 14,853,827\n",
      "Trainable params: 14,622,531\n",
      "Non-trainable params: 231,296\n",
      "_________________________________________________________________\n"
     ]
    }
   ],
   "source": [
    "gen.summary()"
   ]
  },
  {
   "cell_type": "code",
   "execution_count": 199,
   "metadata": {},
   "outputs": [
    {
     "name": "stdout",
     "output_type": "stream",
     "text": [
      "1/1 [==============================] - 0s 83ms/step\n",
      "(120, 120, 3)\n",
      "1/1 [==============================] - 0s 32ms/step\n"
     ]
    },
    {
     "name": "stderr",
     "output_type": "stream",
     "text": [
      "Clipping input data to the valid range for imshow with RGB data ([0..1] for floats or [0..255] for integers).\n"
     ]
    },
    {
     "name": "stdout",
     "output_type": "stream",
     "text": [
      "[1.32432557e-03 1.64515048e-03 1.66852593e-01 4.65509994e-03\n",
      " 1.48362631e-03 2.11159524e-04 1.03971888e-05 1.09761134e-01\n",
      " 2.12602373e-02 4.28170972e-02 1.14712736e-03 3.97675067e-01\n",
      " 7.51265252e-05 1.71121612e-01 4.67906328e-04 7.21495673e-02\n",
      " 1.99901219e-03 5.34375012e-03]\n",
      "Ghost (0.398)\n",
      "Bug (0.171)\n"
     ]
    },
    {
     "data": {
      "text/plain": [
       "<matplotlib.image.AxesImage at 0x1b6c14b39a0>"
      ]
     },
     "execution_count": 199,
     "metadata": {},
     "output_type": "execute_result"
    },
    {
     "data": {
      "image/png": "[encoded data removed]",
      "text/plain": [
       "<Figure size 432x288 with 1 Axes>"
      ]
     },
     "metadata": {
      "needs_background": "light"
     },
     "output_type": "display_data"
    }
   ],
   "source": [
    "import tensorflow as tf\n",
    "import matplotlib.pyplot as plt\n",
    "\n",
    "LATENT_DIM=100\n",
    "random_noise = tf.random.normal([1,LATENT_DIM])\n",
    "# for i in range(10):\n",
    "img=gen.predict(random_noise)\n",
    "img=img.reshape(120,120,3)\n",
    "classes = np.array(classes)\n",
    "print(img.shape)\n",
    "proba = label.predict(img.reshape(1,120,120,3))\n",
    "print(proba[0])\n",
    "top_2 = np.argsort(proba[0])[:-3:-1]\n",
    "for i in range(2):\n",
    "    print(\"{}\".format(classes[top_2[i]])+\" ({:.3})\".format(proba[0][top_2[i]]))\n",
    "plt.imshow(img)"
   ]
  },
  {
   "cell_type": "code",
   "execution_count": 178,
   "metadata": {},
   "outputs": [],
   "source": [
    "# class DCGAN(keras.Model):\n",
    "#     def __init__(self, generator, discriminator, latent_dim):\n",
    "#         super().__init__()\n",
    "#         self.generator = generator\n",
    "#         self.discriminator = discriminator\n",
    "#         self.latent_dim = latent_dim\n",
    "#         self.g_loss_metric = keras.metrics.Mean(name=\"g_loss\")\n",
    "#         self.d_loss_metric = keras.metrics.Mean(name=\"d_loss\")\n",
    "\n",
    "# #   @property\n",
    "#     def metrics(self):\n",
    "#         return [self.g_loss_metric, self.d_loss_metric]\n",
    "\n",
    "#     def compile(self, g_optimizer, d_optimizer, loss_fn):\n",
    "#         super(DCGAN, self).compile()\n",
    "#         self.g_optimizer = g_optimizer\n",
    "#         self.d_optimizer = d_optimizer\n",
    "#         self.loss_fn = loss_fn\n",
    "\n",
    "#     def train_step(self, real_images):\n",
    "#         #get batch size\n",
    "#         batch_size = tf.shape(real_images)[0] \n",
    "#         random_noise = tf.random.normal(shape=(batch_size, self.latent_dim)) # for gen\n",
    "\n",
    "#         # Training the discriminator Model\n",
    "#         with tf.GradientTape() as tape:\n",
    "#         #compute loss on each ---> Real Image\n",
    "#             pred_real = self.discriminator(real_images, training=True) # gives val b/w 0 -> 1\n",
    "#             #1-> Real 0-> Fake\n",
    "\n",
    "#             real_labels = tf.ones((batch_size, 1))\n",
    "#             real_labels += 0.05 * tf.random.uniform(tf.shape(real_labels)) # Label Smoothing\n",
    "#             d_loss_real = self.loss_fn(real_labels, pred_real)\n",
    "\n",
    "\n",
    "\n",
    "#             #compute loss on each ---> Real Image\n",
    "#             fake_images = self.generator(random_noise)\n",
    "#             pred_fake = self.discriminator(fake_images, training=True)\n",
    "            \n",
    "#             fake_labels = tf.zeros((batch_size, 1)) # No smoothing needed\n",
    "#             d_loss_fake = self.loss_fn(fake_labels, pred_fake)\n",
    "            \n",
    "\n",
    "#             # Sum Losses\n",
    "#             d_loss = (d_loss_real + d_loss_fake) / 2\n",
    "\n",
    "#         grads = tape.gradient(d_loss, self.discriminator.trainable_variables)\n",
    "#         self.d_optimizer.apply_gradients(zip(grads, self.discriminator.trainable_variables))\n",
    "\n",
    "#         # Train the gen Model\n",
    "\n",
    "#         labels = tf.ones((batch_size, 1))\n",
    "#         with tf.GradientTape() as tape:\n",
    "#         # gen fake images\n",
    "#             fake_images = self.generator(random_noise, training=True) \n",
    "#             pred_fake = self.discriminator(fake_images, training=True)\n",
    "            \n",
    "\n",
    "#             g_loss = self.loss_fn(labels, pred_fake) \n",
    "#         grads = tape.gradient(g_loss, self.generator.trainable_variables)\n",
    "#         self.g_optimizer.apply_gradients(zip(grads, self.generator.trainable_variables))\n",
    "\n",
    "#         self.d_loss_metric.update_state(d_loss)\n",
    "#         self.g_loss_metric.update_state(g_loss)\n",
    "\n",
    "#         return {'d_loss':self.d_loss_metric.result(), 'g_loss': self.g_loss_metric.result()}"
   ]
  },
  {
   "cell_type": "code",
   "execution_count": 179,
   "metadata": {},
   "outputs": [],
   "source": [
    "# from keras.callbacks import ModelCheckpoint\n",
    "\n",
    "# class DCGANMonitor(keras.callbacks.Callback):\n",
    "#   def __init__(self, num_imgs=25, latent_dim=100):\n",
    "#     self.num_imgs=num_imgs\n",
    "#     self.latent_dim=latent_dim\n",
    "#     self.noise = tf.random.normal([25, latent_dim]) \n",
    "\n",
    "#   def on_epoch_end(self, epoch, logs=None):\n",
    "#     g_img = self.model.generator(self.noise)\n",
    "\n",
    "#     g_img = (g_img + 127.5) * 127.5\n",
    "#     g_img.numpy()\n",
    "\n",
    "\n",
    "#     fig = plt.figure(figsize=(8, 8))\n",
    "#     for i in range(self.num_imgs):\n",
    "#       plt.subplot(5,5,i+1)\n",
    "#       img = array_to_img(g_img[i])\n",
    "#       plt.imshow(img)\n",
    "#       plt.axis(\"off\")\n",
    "      \n",
    "#     plt.show()\n",
    "\n",
    "#     def on_train_end(self, logs=None):\n",
    "# #         checkpoint_path = \"training_1/cp.ckpt\"\n",
    "# #         checkpoint_dir = os.path.dirname(\"/kaggle/working/\")\n",
    "\n",
    "# #         # Create a callback that saves the model's weights\n",
    "# #         cp_callback = tf.keras.callbacks.ModelCheckpoint(filepath=checkpoint_path,\n",
    "# #                                                          save_weights_only=True,\n",
    "# #                                                          verbose=1)\n",
    "#         # callback = [checkpoint]\n",
    "#         self.model.generator.save('generator.h5')\n"
   ]
  },
  {
   "cell_type": "code",
   "execution_count": 180,
   "metadata": {},
   "outputs": [
    {
     "ename": "NameError",
     "evalue": "name 'generator' is not defined",
     "output_type": "error",
     "traceback": [
      "\u001b[1;31m---------------------------------------------------------------------------\u001b[0m",
      "\u001b[1;31mNameError\u001b[0m                                 Traceback (most recent call last)",
      "\u001b[1;32m~\\AppData\\Local\\Temp/ipykernel_37544/3094394971.py\u001b[0m in \u001b[0;36m<module>\u001b[1;34m\u001b[0m\n\u001b[1;32m----> 1\u001b[1;33m \u001b[0mdcgan\u001b[0m \u001b[1;33m=\u001b[0m \u001b[0mDCGAN\u001b[0m\u001b[1;33m(\u001b[0m\u001b[0mgenerator\u001b[0m\u001b[1;33m=\u001b[0m\u001b[0mgenerator\u001b[0m\u001b[1;33m,\u001b[0m \u001b[0mdiscriminator\u001b[0m\u001b[1;33m=\u001b[0m\u001b[0mdiscriminator\u001b[0m\u001b[1;33m,\u001b[0m \u001b[0mlatent_dim\u001b[0m\u001b[1;33m=\u001b[0m\u001b[0mLATENT_DIM\u001b[0m\u001b[1;33m)\u001b[0m\u001b[1;33m\u001b[0m\u001b[1;33m\u001b[0m\u001b[0m\n\u001b[0m",
      "\u001b[1;31mNameError\u001b[0m: name 'generator' is not defined"
     ]
    }
   ],
   "source": [
    "# dcgan = DCGAN(generator=generator, discriminator=discriminator, latent_dim=LATENT_DIM)    "
   ]
  }
 ],
 "metadata": {
  "kernelspec": {
   "display_name": "Python 3",
   "language": "python",
   "name": "python3"
  },
  "language_info": {
   "codemirror_mode": {
    "name": "ipython",
    "version": 3
   },
   "file_extension": ".py",
   "mimetype": "text/x-python",
   "name": "python",
   "nbconvert_exporter": "python",
   "pygments_lexer": "ipython3",
   "version": "3.9.6"
  },
  "orig_nbformat": 4
 },
 "nbformat": 4,
 "nbformat_minor": 2
}
